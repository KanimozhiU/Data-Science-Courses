{
 "cells": [
  {
   "cell_type": "code",
   "execution_count": 1,
   "metadata": {},
   "outputs": [],
   "source": [
    "%matplotlib inline\n",
    "import matplotlib\n",
    "import seaborn as sns\n",
    "matplotlib.rcParams['savefig.dpi'] = 144"
   ]
  },
  {
   "cell_type": "markdown",
   "metadata": {},
   "source": [
    "# Python for Data Science"
   ]
  },
  {
   "cell_type": "markdown",
   "metadata": {},
   "source": [
    "Welcome!  We will be taking a deep dive into Data Science over the next few weeks.  This course will be divided into two parts, the first component will cover basic Python and programming while the second component will cover material in Data Science ranging from basic programming to data cleaning and aggregation.  The basic syllabus is as follows\n",
    "\n",
    "|Module|Material|\n",
    "|---|---|\n",
    "|1| Programming and Python fundamentals|\n",
    "|2| Data structures|\n",
    "|3| Algorithms, object-oriented programming, & Pythonic style|\n",
    "|4| Reading and writing data|\n",
    "|5| Python data science packages|\n",
    "|6| SQL|\n",
    "|7| Data munging|\n",
    "|8| Object-relation mapping|\n",
    "\n",
    "The second component is a series of miniprojects which will test your mastery of the lecture subjects.  Data Science is not a spectator sport, so its important to practice, the miniprojects are a great way to do that.  There will be a series of five miniprojects which will need to be completed by the end of the course.\n",
    "\n",
    "Remember the best learning often happens when you need to explain something to someone else."
   ]
  },
  {
   "cell_type": "markdown",
   "metadata": {},
   "source": [
    "## Learning Platform\n",
    "\n",
    "We will be using the Jupyter notebook interface for all of our work.  The Jupyter notebook is a great tool for Data Science, especially for exploratory Data Science.  Lets go over a few things about the notebook.\n",
    "\n",
    "The notebook is divided into cells, some of which are markdown."
   ]
  },
  {
   "cell_type": "code",
   "execution_count": 1,
   "metadata": {},
   "outputs": [
    {
     "name": "stdout",
     "output_type": "stream",
     "text": [
      "some of which are code\n"
     ]
    }
   ],
   "source": [
    "print('some of which are code')"
   ]
  },
  {
   "cell_type": "markdown",
   "metadata": {},
   "source": [
    "The code you are writing in your web browser gets sent to a Python \"kernel\" which will execute your code and return the result back to the notebook.  To run a cell we can either click the run button at the top of the screen, or use `shift+enter`.  \n",
    "\n",
    "If I define a variable in one cell"
   ]
  },
  {
   "cell_type": "code",
   "execution_count": 3,
   "metadata": {},
   "outputs": [],
   "source": [
    "a = 5"
   ]
  },
  {
   "cell_type": "markdown",
   "metadata": {},
   "source": [
    "The value is still accessible in another cell:"
   ]
  },
  {
   "cell_type": "code",
   "execution_count": 4,
   "metadata": {},
   "outputs": [
    {
     "name": "stdout",
     "output_type": "stream",
     "text": [
      "5\n"
     ]
    }
   ],
   "source": [
    "print(a)"
   ]
  },
  {
   "cell_type": "markdown",
   "metadata": {},
   "source": [
    "Jupyter notebooks do have some autosave functionality, but please remember to save your notebooks manually often to make sure you don't lose any work.  If you are familiar with a version control too like `git`, it is not a bad idea to version control the notebooks."
   ]
  },
  {
   "cell_type": "markdown",
   "metadata": {},
   "source": [
    "## Exercises\n",
    "\n",
    "Now a few exercises for the introduction:\n",
    "\n",
    "1. Make a few cells in the Jupyter notebook and execute them\n",
    "2. Save your Jupyter notebook"
   ]
  }
 ],
 "metadata": {
  "kernelspec": {
   "display_name": "Python 3",
   "language": "python",
   "name": "python3"
  },
  "language_info": {
   "codemirror_mode": {
    "name": "ipython",
    "version": 3
   },
   "file_extension": ".py",
   "mimetype": "text/x-python",
   "name": "python",
   "nbconvert_exporter": "python",
   "pygments_lexer": "ipython3",
   "version": "3.7.4"
  },
  "nbclean": true
 },
 "nbformat": 4,
 "nbformat_minor": 4
}
